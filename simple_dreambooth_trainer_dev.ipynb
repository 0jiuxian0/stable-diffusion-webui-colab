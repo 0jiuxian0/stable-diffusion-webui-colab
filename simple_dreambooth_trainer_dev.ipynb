{
  "cells": [
    {
      "cell_type": "markdown",
      "metadata": {
        "id": "view-in-github"
      },
      "source": [
        "[![Open In Colab](https://colab.research.google.com/assets/colab-badge.svg)](https://colab.research.google.com/github/camenduru/stable-diffusion-webui-colab/blob/training/simple_dreambooth_trainer_dev.ipynb)"
      ]
    },
    {
      "cell_type": "code",
      "execution_count": null,
      "metadata": {
        "cellView": "form",
        "id": "SaAJk33ppFw1"
      },
      "outputs": [],
      "source": [
        "from google.colab import drive\n",
        "drive.mount('/content/drive')\n",
        "\n",
        "!apt -y update -qq\n",
        "!wget http://launchpadlibrarian.net/367274644/libgoogle-perftools-dev_2.5-2.2ubuntu3_amd64.deb\n",
        "!wget https://launchpad.net/ubuntu/+source/google-perftools/2.5-2.2ubuntu3/+build/14795286/+files/google-perftools_2.5-2.2ubuntu3_all.deb\n",
        "!wget https://launchpad.net/ubuntu/+source/google-perftools/2.5-2.2ubuntu3/+build/14795286/+files/libtcmalloc-minimal4_2.5-2.2ubuntu3_amd64.deb\n",
        "!wget https://launchpad.net/ubuntu/+source/google-perftools/2.5-2.2ubuntu3/+build/14795286/+files/libgoogle-perftools4_2.5-2.2ubuntu3_amd64.deb\n",
        "!apt install -qq libunwind8-dev\n",
        "!dpkg -i *.deb\n",
        "%env LD_PRELOAD=libtcmalloc.so\n",
        "!rm *.deb\n",
        "\n",
        "!apt -y install -qq aria2\n",
        "!pip install -q --pre xformers\n",
        "!pip install -q --pre triton\n",
        "\n",
        "!pip install diffusers==0.13.1 -U\n",
        "!pip install transformers==4.26.1 -U\n",
        "!pip install accelerate==0.16.0 -U\n",
        "!pip install ftfy==6.1.1 -U\n",
        "!pip install bitsandbytes==0.37.0 -U\n",
        "!pip install safetensors==0.2.8 -U\n",
        "\n",
        "!git clone https://huggingface.co/JosephusCheung/ACertainty /content/model\n",
        "!mv /content/model/ACertainty.ckpt /content/model/model.ckpt\n",
        "\n",
        "!mkdir /content/trainer\n",
        "!mkdir /content/trainer/diffusers\n",
        "!mkdir /content/trainer/diffusers/dreambooth\n",
        "!mkdir /content/trainer/diffusers/dreambooth/output_dir\n",
        "!mkdir /content/trainer/diffusers/dreambooth/class_data_dir\n",
        "\n",
        "!wget https://raw.githubusercontent.com/camenduru/trainer/main/diffusers/dreambooth/train_dreambooth.py -O /content/trainer/diffusers/dreambooth/train_dreambooth.py\n",
        "!wget https://raw.githubusercontent.com/camenduru/trainer/main/diffusers/dreambooth/convert_diffusers_to_original_stable_diffusion.py -O /content/trainer/diffusers/dreambooth/convert_diffusers_to_original_stable_diffusion.py\n",
        "\n",
        "!python -u /content/trainer/diffusers/dreambooth/train_dreambooth.py \\\n",
        "                    --pretrained_model_name_or_path=\"/content/model\"  \\\n",
        "                    --instance_data_dir=\"/content/drive/MyDrive/AI/training/parkminyoung\" \\\n",
        "                    --output_dir=\"/content/trainer/diffusers/dreambooth/output_dir\" \\\n",
        "                    --learning_rate=5e-6 \\\n",
        "                    --max_train_steps=650 \\\n",
        "                    --instance_prompt=\"parkminyoung\" \\\n",
        "                    --resolution=512 \\\n",
        "                    --center_crop \\\n",
        "                    --train_batch_size=1 \\\n",
        "                    --gradient_accumulation_steps=1 \\\n",
        "                    --max_grad_norm=1.0 \\\n",
        "                    --mixed_precision=\"fp16\" \\\n",
        "                    --gradient_checkpointing \\\n",
        "                    --enable_xformers_memory_efficient_attention \\\n",
        "                    --use_8bit_adam \\\n",
        "                    --with_prior_preservation \\\n",
        "                    --class_data_dir=\"/content/trainer/diffusers/dreambooth/class_data_dir\" \\\n",
        "                    --prior_loss_weight=1.0 \\\n",
        "                    --sample_batch_size=2 \\\n",
        "                    --class_prompt=\"person\" \\\n",
        "                    --seed=69 \\\n",
        "                    --num_class_images=12"
      ]
    }
  ],
  "metadata": {
    "accelerator": "GPU",
    "colab": {
      "private_outputs": true,
      "provenance": []
    },
    "gpuClass": "standard",
    "kernelspec": {
      "display_name": "Python 3",
      "name": "python3"
    },
    "language_info": {
      "name": "python"
    }
  },
  "nbformat": 4,
  "nbformat_minor": 0
}
