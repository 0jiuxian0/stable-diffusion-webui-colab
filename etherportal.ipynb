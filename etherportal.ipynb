{
  "nbformat": 4,
  "nbformat_minor": 0,
  "metadata": {
    "colab": {
      "private_outputs": true,
      "provenance": [],
      "include_colab_link": true
    },
    "kernelspec": {
      "name": "python3",
      "display_name": "Python 3"
    },
    "language_info": {
      "name": "python"
    },
    "accelerator": "GPU",
    "gpuClass": "standard"
  },
  "cells": [
    {
      "cell_type": "markdown",
      "metadata": {
        "id": "view-in-github",
        "colab_type": "text"
      },
      "source": [
        "<a href=\"https://colab.research.google.com/github/etherealxx/etherportal-webui-colab/blob/master/etherportal.ipynb\" target=\"_parent\"><img src=\"https://colab.research.google.com/assets/colab-badge.svg\" alt=\"Open In Colab\"/></a>"
      ]
    },
    {
      "cell_type": "markdown",
      "source": [
        "#***`EtherPortal`***\n",
        "\n",
        "**Intinya jalanin kotak \"Instalasi\", tunggu sebentar.** *(Run the \"Instalasi\" cell. wait a moment.)*\n",
        "\n",
        "**Kalau udah ada centang atau ada tulisan \"Download success\", lanjut jalanin kotak \"Jalankan\". Terserah pilih yang mana.** *(When the cell is complete, the \"Download success\" text appear, run the \"Jalankan\" cell. Choosing gradio or localtunnel is up to you)*\n",
        "\n",
        "**Buat gradio: Tunggu (rada lama) ampe muncul link gradio yang public url, trus buka tuh link.** *(For gradio: wait a few minutes until the public url link shows up, click it.)*\n",
        "\n",
        "**Buat localtunnel, link bakal muncul di awal, tapi tunggu dulu ampe ada link lokal url. pakai link yang diatas [xxx.loca.lt], jangan yang itu.** *(For localtunnel: the link will show early, but wait until the model is loaded and the local url link shows up. then click the previous link [xxx.loca.lt], not the new one)*\n",
        "\n",
        "**kalo udah, selamat memakai. Enjoy.**\n",
        "**(kalo bisa, yang \"masterpiece, best quality, \" gausa dihapus, soalnya bawaan NovelAI)** \n",
        "\n",
        "*(the \"masterpiece, best quality, \" part is NovelAI default. Don't change it if you want to make accurate NovelAI images)*\n",
        "\n",
        "\n",
        "---\n",
        "\n",
        "sekian dari saya, yaudah gitu aja.\n"
      ],
      "metadata": {
        "id": "O2ZoMRGCS6WY"
      }
    },
    {
      "cell_type": "markdown",
      "source": [],
      "metadata": {
        "id": "REeEcx0RXjA5"
      }
    },
    {
      "cell_type": "code",
      "source": [
        "#@title - Instan\n",
        "from subprocess import getoutput\n",
        "cek = getoutput('nvidia-smi')\n",
        "if not 'T4' in cek:\n",
        "  print(\"-----Your colab session is over. Use other google account or wait 12-24 hours-----\")\n",
        "  print(\"-----Sesi colab elu udah habis bro. Saran gw tunggu 12-24 jam atau bikin/pake akun google lain-----\")\n",
        "  exit()\n",
        "\n",
        "#thanks to https://github.com/camenduru for the fork\n",
        "!if ! pip freeze | grep \"xformers==0.0.15\"; then pip install -q https://github.com/camenduru/stable-diffusion-webui-colab/releases/download/0.0.15/xformers-0.0.15.dev0+189828c.d20221207-cp38-cp38-linux_x86_64.whl; fi\n",
        "%cd /content\n",
        "!if ! [ -d stable-diffusion-webui ]; then git clone https://github.com/camenduru/stable-diffusion-webui; fi\n",
        "%cd stable-diffusion-webui\n",
        "\n",
        "#AnythingV3 Model & Vae\n",
        "%cd /content/stable-diffusion-webui/models/Stable-diffusion/\n",
        "!if ! [ -f Anything-V3.0.ckpt ]; then wget https://huggingface.co/Linaqruf/anything-v3.0/resolve/main/Anything-V3.0-pruned-fp32.ckpt -O /content/stable-diffusion-webui/models/Stable-diffusion/Anything-V3.0.ckpt; fi\n",
        "!if ! [ -f Anything-V3.0.vae.pt ]; then wget https://huggingface.co/Linaqruf/anything-v3.0/resolve/main/Anything-V3.0.vae.pt -O /content/stable-diffusion-webui/models/Stable-diffusion/Anything-V3.0.vae.pt; fi\n",
        "\n",
        "#webui setup for nai\n",
        "%cd /content/stable-diffusion-webui\n",
        "!if ! [ -f configinstanlite ]; then rm configinstanlite; fi\n",
        "!if ! [ -f configinstan ]; then wget https://pastebin.com/raw/E4xqLW8f -O /content/stable-diffusion-webui/ui-config.json && wget https://pastebin.com/raw/DMZi7pUU -O /content/stable-diffusion-webui/config.json; fi\n",
        "!touch configinstan\n",
        "\n",
        "#extensions\n",
        "%cd /content/stable-diffusion-webui/extensions\n",
        "!bash -c 'for repo in yfszzx/stable-diffusion-webui-images-browser Extraltodeus/depthmap2mask Klokinator/UnivAICharGen DominikDoom/a1111-sd-webui-tagcomplete; do if [ ! -d \"$repo\" ]; then git clone \"https://github.com/$repo\" && true; fi; done'\n",
        "\n",
        "#badprompt & badartist\n",
        "%cd /content/stable-diffusion-webui/embeddings/\n",
        "!if ! [ -f bad_prompt.pt ]; then wget https://huggingface.co/datasets/Nerfgun3/bad_prompt/resolve/main/bad_prompt_version2.pt -O /content/stable-diffusion-webui/embeddings/bad_prompt.pt; fi\n",
        "!if ! [ -f bad_artist.pt ]; then wget https://huggingface.co/NiXXerHATTER59/bad-artist/resolve/main/bad-artist.pt -O /content/stable-diffusion-webui/embeddings/bad_artist.pt; fi\n",
        "\n",
        "print(\"-----Download success! Now launching the webui------\")\n",
        "%cd /content/stable-diffusion-webui\n",
        "!python launch.py --share --xformers"
      ],
      "metadata": {
        "id": "SaAJk33ppFw1",
        "cellView": "form"
      },
      "execution_count": null,
      "outputs": []
    },
    {
      "cell_type": "markdown",
      "source": [
        "## ![](https://raw.githubusercontent.com/etherealxx/etherportal-webui-colab/master/images/launchwebui.jpg)"
      ],
      "metadata": {
        "id": "yNZgsRe7jYIe"
      }
    },
    {
      "cell_type": "markdown",
      "source": [
        "## - Manual (Buka Dropdown👇)"
      ],
      "metadata": {
        "id": "WWkQNOGnY4rz"
      }
    },
    {
      "cell_type": "code",
      "source": [
        "#@title 1. Instalasi\n",
        "from subprocess import getoutput\n",
        "cek = getoutput('nvidia-smi')\n",
        "if not 'T4' in cek:\n",
        "  print(\"-----Your colab session is over. Use other google account or wait 12-24 hours-----\")\n",
        "  print(\"-----Sesi colab elu udah habis bro. Saran gw tunggu 12-24 jam atau bikin/pake akun google lain-----\")\n",
        "  exit()\n",
        "\n",
        "#thanks to https://github.com/camenduru for the fork\n",
        "!if ! pip freeze | grep \"xformers==0.0.15\"; then pip install -q https://github.com/camenduru/stable-diffusion-webui-colab/releases/download/0.0.15/xformers-0.0.15.dev0+189828c.d20221207-cp38-cp38-linux_x86_64.whl; fi\n",
        "%cd /content\n",
        "!if ! [ -d stable-diffusion-webui ]; then git clone https://github.com/camenduru/stable-diffusion-webui; fi\n",
        "%cd stable-diffusion-webui\n",
        "\n",
        "#AnythingV3 Model & Vae\n",
        "%cd /content/stable-diffusion-webui/models/Stable-diffusion/\n",
        "!if ! [ -f Anything-V3.0.ckpt ]; then wget https://huggingface.co/Linaqruf/anything-v3.0/resolve/main/Anything-V3.0-pruned-fp32.ckpt -O /content/stable-diffusion-webui/models/Stable-diffusion/Anything-V3.0.ckpt; fi\n",
        "!if ! [ -f Anything-V3.0.vae.pt ]; then wget https://huggingface.co/Linaqruf/anything-v3.0/resolve/main/Anything-V3.0.vae.pt -O /content/stable-diffusion-webui/models/Stable-diffusion/Anything-V3.0.vae.pt; fi\n",
        "\n",
        "#webui setup for nai\n",
        "%cd /content/stable-diffusion-webui\n",
        "!if ! [ -f configinstanlite ]; then rm configinstanlite; fi\n",
        "!if ! [ -f configinstan ]; then wget https://pastebin.com/raw/E4xqLW8f -O /content/stable-diffusion-webui/ui-config.json && wget https://pastebin.com/raw/DMZi7pUU -O /content/stable-diffusion-webui/config.json; fi\n",
        "!touch configinstan\n",
        "\n",
        "#extensions\n",
        "%cd /content/stable-diffusion-webui/extensions\n",
        "!bash -c 'for repo in yfszzx/stable-diffusion-webui-images-browser Extraltodeus/depthmap2mask Klokinator/UnivAICharGen DominikDoom/a1111-sd-webui-tagcomplete; do if [ ! -d \"$repo\" ]; then git clone \"https://github.com/$repo\" && true; fi; done'\n",
        "\n",
        "#badprompt & badartist\n",
        "%cd /content/stable-diffusion-webui/embeddings/\n",
        "!if ! [ -f bad_prompt.pt ]; then wget https://huggingface.co/datasets/Nerfgun3/bad_prompt/resolve/main/bad_prompt_version2.pt -O /content/stable-diffusion-webui/embeddings/bad_prompt.pt; fi\n",
        "!if ! [ -f bad_artist.pt ]; then wget https://huggingface.co/NiXXerHATTER59/bad-artist/resolve/main/bad-artist.pt -O /content/stable-diffusion-webui/embeddings/bad_artist.pt; fi"
      ],
      "metadata": {
        "cellView": "form",
        "id": "LzCWB7CkZP1j"
      },
      "execution_count": null,
      "outputs": []
    },
    {
      "cell_type": "markdown",
      "source": [
        "\n",
        "\n",
        "---\n",
        "\n"
      ],
      "metadata": {
        "id": "z3QUBGROii1m"
      }
    },
    {
      "cell_type": "markdown",
      "source": [
        "###2. Pilih Model (Buka Dropdown👇)"
      ],
      "metadata": {
        "id": "OKDabBU_X5HW"
      }
    },
    {
      "cell_type": "markdown",
      "source": [
        "\n",
        "\n",
        "---\n",
        "\n"
      ],
      "metadata": {
        "id": "iLo4Wq8nidO3"
      }
    },
    {
      "cell_type": "code",
      "source": [
        "#@title AnythingV3 Model & Vae\n",
        "%cd /content/stable-diffusion-webui/models/Stable-diffusion/\n",
        "!wget https://huggingface.co/Linaqruf/anything-v3.0/resolve/main/Anything-V3.0-pruned-fp32.ckpt -O /content/stable-diffusion-webui/models/Stable-diffusion/model.ckpt\n",
        "!wget https://huggingface.co/Linaqruf/anything-v3.0/resolve/main/Anything-V3.0.vae.pt -O /content/stable-diffusion-webui/models/Stable-diffusion/model.vae.pt"
      ],
      "metadata": {
        "cellView": "form",
        "id": "PM4QtfpcaIK9"
      },
      "execution_count": null,
      "outputs": []
    },
    {
      "cell_type": "code",
      "source": [
        "#@title Eimis Model\n",
        "%cd /content/stable-diffusion-webui/models/Stable-diffusion/\n",
        "!wget https://huggingface.co/eimiss/EimisAnimeDiffusion_1.0v/resolve/main/EimisAnimeDiffusion_1-0v.ckpt"
      ],
      "metadata": {
        "id": "CqJgbmwcZxn4",
        "cellView": "form"
      },
      "execution_count": null,
      "outputs": []
    },
    {
      "cell_type": "code",
      "source": [
        "#@title Evt_v2 Model\n",
        "%cd /content/stable-diffusion-webui/models/Stable-diffusion/\n",
        "!wget https://huggingface.co/haor/Evt_V2/resolve/main/evt_v2-ema-pruned.ckpt"
      ],
      "metadata": {
        "cellView": "form",
        "id": "aKXVJgqkKmCl"
      },
      "execution_count": null,
      "outputs": []
    },
    {
      "cell_type": "code",
      "source": [
        "#@title ACertain Model\n",
        "%cd /content/stable-diffusion-webui/models/Stable-diffusion/\n",
        "!wget https://huggingface.co/JosephusCheung/ACertainModel/resolve/main/ACertainModel.ckpt -O /content/stable-diffusion-webui/models/Stable-diffusion/ACertainModel.ckpt"
      ],
      "metadata": {
        "id": "UJZcVF8aYWUk",
        "cellView": "form"
      },
      "execution_count": null,
      "outputs": []
    },
    {
      "cell_type": "code",
      "source": [
        "#@title Berrymix Model\n",
        "%cd /content/stable-diffusion-webui/models/Stable-diffusion/\n",
        "!wget https://huggingface.co/misobarisic/berry-mix/resolve/main/berry_mix.ckpt"
      ],
      "metadata": {
        "cellView": "form",
        "id": "14NsxYdieEA4"
      },
      "execution_count": null,
      "outputs": []
    },
    {
      "cell_type": "code",
      "source": [
        "#@title Elysium Model v2\n",
        "%cd /content/stable-diffusion-webui/models/Stable-diffusion/\n",
        "!wget https://huggingface.co/hesw23168/SD-Elysium-Model/resolve/main/Elysium_Anime_V2.ckpt"
      ],
      "metadata": {
        "id": "itgd72z5ZGpU",
        "cellView": "form"
      },
      "execution_count": null,
      "outputs": []
    },
    {
      "cell_type": "code",
      "source": [
        "#@title Elysium Model v3\n",
        "%cd /content/stable-diffusion-webui/models/Stable-diffusion/\n",
        "!wget https://huggingface.co/hesw23168/SD-Elysium-Model/resolve/main/Elysium_Anime_V3.safetensors"
      ],
      "metadata": {
        "id": "GvWjfidnJ6Nq",
        "cellView": "form"
      },
      "execution_count": null,
      "outputs": []
    },
    {
      "cell_type": "code",
      "source": [
        "#@title Wlop any Model\n",
        "%cd /content/stable-diffusion-webui/models/Stable-diffusion/\n",
        "!wget https://huggingface.co/SirVeggie/wlop/resolve/main/wlop-any.ckpt"
      ],
      "metadata": {
        "cellView": "form",
        "id": "fNI2JTyv20ev"
      },
      "execution_count": null,
      "outputs": []
    },
    {
      "cell_type": "code",
      "source": [
        "#@title CSR Model\n",
        "%cd /content/stable-diffusion-webui/models/Stable-diffusion/\n",
        "!wget https://huggingface.co/etherealxx/systemy-csrmodel-cutesexyrobutts/resolve/main/CSRmodel_1-CSRmodel_0-Weighted_sum-merged.ckpt"
      ],
      "metadata": {
        "cellView": "form",
        "id": "Ia6K7DWSwvUB"
      },
      "execution_count": null,
      "outputs": []
    },
    {
      "cell_type": "code",
      "source": [
        "#@title ElyOrangeMix Model\n",
        "%cd /content/stable-diffusion-webui/models/Stable-diffusion/\n",
        "!wget https://huggingface.co/WarriorMama777/OrangeMixs/resolve/main/ElyOrangeMix.ckpt"
      ],
      "metadata": {
        "cellView": "form",
        "id": "uRrI-mhyxxlQ"
      },
      "execution_count": null,
      "outputs": []
    },
    {
      "cell_type": "code",
      "source": [
        "#@title Waifu Diffusion 1.4 Vae\n",
        "%cd /content/stable-diffusion-webui/models/VAE/\n",
        "!wget https://huggingface.co/hakurei/waifu-diffusion-v1-4/resolve/main/vae/kl-f8-anime2.ckpt"
      ],
      "metadata": {
        "cellView": "form",
        "id": "OXH_Fku5aC6n"
      },
      "execution_count": null,
      "outputs": []
    },
    {
      "cell_type": "markdown",
      "source": [
        "\n",
        "\n",
        "---\n",
        "\n"
      ],
      "metadata": {
        "id": "XHWGAmJ5h_X_"
      }
    },
    {
      "cell_type": "markdown",
      "source": [
        "###3. Jalankan (Buka Dropdown👇)"
      ],
      "metadata": {
        "id": "bipvd2hgXrgW"
      }
    },
    {
      "cell_type": "markdown",
      "source": [
        "\n",
        "\n",
        "---\n",
        "\n"
      ],
      "metadata": {
        "id": "td3IRmNkiazu"
      }
    },
    {
      "cell_type": "code",
      "source": [
        "#@title Jalankan/Run (Gradio)\n",
        "from subprocess import getoutput\n",
        "cek = getoutput('nvidia-smi')\n",
        "if not 'T4' in cek:\n",
        "  print(\"Your colab session is over. Use other google account or wait 12-24 hours\")\n",
        "  print(\"Sesi colab elu udah habis bro. Saran gw tunggu 12-24 jam atau bikin/pake akun google lain\")\n",
        "  exit()\n",
        "\n",
        "%cd /content/stable-diffusion-webui/\n",
        "!python --share --xformers --disable-safe-unpickle --hide-ui-dir-config --gradio-debug"
      ],
      "metadata": {
        "id": "LhQlDtJhaS3J",
        "cellView": "form"
      },
      "execution_count": null,
      "outputs": []
    },
    {
      "cell_type": "markdown",
      "source": [
        "#### ![](https://raw.githubusercontent.com/etherealxx/etherportal-webui-colab/master/images/launchwebui.jpg)"
      ],
      "metadata": {
        "id": "rlgAV9cmkMGO"
      }
    },
    {
      "cell_type": "code",
      "source": [
        "#@title Jalankan/Run (Localtunnel)\n",
        "from subprocess import getoutput\n",
        "import time\n",
        "!npm install -g localtunnel\n",
        "\n",
        "cek = getoutput('nvidia-smi')\n",
        "if not 'T4' in cek:\n",
        "  print(\"Your colab session is over. Use other google account or wait 12-24 hours\")\n",
        "  print(\"Sesi colab elu udah habis bro. Saran gw tunggu 12-24 jam atau bikin/pake akun google lain\")\n",
        "  exit()\n",
        "\n",
        "%cd /content/stable-diffusion-webui/\n",
        "!nohup lt -p 7860 > lt.log 2>&1 &  \n",
        "time.sleep(2)\n",
        "with open('/content/stable-diffusion-webui/lt.log', 'r') as testwritefile:\n",
        "  print(\"\\033[92m\" + \"Wait for the model to load and follow this link\")\n",
        "  print(testwritefile.read())\n",
        "  print(\"\\033[95m\")\n",
        "!python launch.py --xformers --disable-safe-unpickle --lowram --medvram"
      ],
      "metadata": {
        "id": "Ct5OJZ7Tajh7",
        "cellView": "form"
      },
      "execution_count": null,
      "outputs": []
    },
    {
      "cell_type": "markdown",
      "source": [
        "\n",
        "\n",
        "---\n",
        "\n"
      ],
      "metadata": {
        "id": "noIV0lWSifeW"
      }
    }
  ]
}