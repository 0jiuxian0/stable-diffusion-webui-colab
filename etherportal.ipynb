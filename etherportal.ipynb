{
  "nbformat": 4,
  "nbformat_minor": 0,
  "metadata": {
    "colab": {
      "private_outputs": true,
      "provenance": [],
      "include_colab_link": true
    },
    "kernelspec": {
      "name": "python3",
      "display_name": "Python 3"
    },
    "language_info": {
      "name": "python"
    },
    "accelerator": "GPU",
    "gpuClass": "standard"
  },
  "cells": [
    {
      "cell_type": "markdown",
      "metadata": {
        "id": "view-in-github",
        "colab_type": "text"
      },
      "source": [
        "<a href=\"https://colab.research.google.com/github/etherealxx/etherportal-webui-colab/blob/master/etherportal.ipynb\" target=\"_parent\"><img src=\"https://colab.research.google.com/assets/colab-badge.svg\" alt=\"Open In Colab\"/></a>"
      ]
    },
    {
      "cell_type": "markdown",
      "source": [
        "#***`EtherPortal`***\n",
        "\n",
        "**Intinya jalanin kotak \"Instalasi\", tunggu sebentar.** *(Run the \"Instalasi\" cell. wait a moment.)*\n",
        "\n",
        "**Kalau udah ada centang atau ada tulisan \"Download success\", lanjut jalanin kotak \"Jalankan\". Terserah pilih yang mana.** *(When the cell is complete, the \"Download success\" text appear, run the \"Jalankan\" cell. Choosing gradio or localtunnel is up to you)*\n",
        "\n",
        "**Buat gradio: Tunggu (rada lama) ampe muncul link gradio yang public url, trus buka tuh link.** *(For gradio: wait a few minutes until the public url link shows up, click it.)*\n",
        "\n",
        "**Buat localtunnel, link bakal muncul di awal, tapi tunggu dulu ampe ada link lokal url. pakai link yang diatas [xxx.loca.lt], jangan yang itu.** *(For localtunnel: the link will show early, but wait until the model is loaded and the local url link shows up. then click the previous link [xxx.loca.lt], not the new one)*\n",
        "\n",
        "**kalo udah, selamat memakai. Enjoy.**\n",
        "**(kalo bisa, yang \"masterpiece, best quality, \" gausa dihapus, soalnya bawaan NovelAI)** \n",
        "\n",
        "*(the \"masterpiece, best quality, \" part is NovelAI default. Don't change it if you want to make accurate NovelAI images)*\n",
        "\n",
        "\n",
        "---\n",
        "\n",
        "sekian dari saya, yaudah gitu aja.\n"
      ],
      "metadata": {
        "id": "O2ZoMRGCS6WY"
      }
    },
    {
      "cell_type": "markdown",
      "source": [],
      "metadata": {
        "id": "REeEcx0RXjA5"
      }
    },
    {
      "cell_type": "code",
      "source": [
        "#@title - Instan (Simple)\n",
        "from subprocess import getoutput\n",
        "cek = getoutput('nvidia-smi')\n",
        "if not 'T4' in cek:\n",
        "  print(\"-----Your colab session is over. Use other google account or wait 12-24 hours-----\")\n",
        "  print(\"-----Sesi colab elu udah habis bro. Saran gw tunggu 12-24 jam atau bikin/pake akun google lain-----\")\n",
        "  exit()\n",
        "\n",
        "#thanks to https://github.com/camenduru for the fork\n",
        "!if ! pip freeze | grep \"xformers==0.0.15\"; then pip install -q https://github.com/camenduru/stable-diffusion-webui-colab/releases/download/0.0.15/xformers-0.0.15.dev0+189828c.d20221207-cp38-cp38-linux_x86_64.whl; fi\n",
        "%cd /content\n",
        "!if ! [ -d stable-diffusion-webui ]; then git clone https://github.com/camenduru/stable-diffusion-webui; fi\n",
        "%cd stable-diffusion-webui\n",
        "\n",
        "#AnythingV3 Model & Vae\n",
        "%cd /content/stable-diffusion-webui/models/Stable-diffusion/\n",
        "!if ! [ -f Anything-V3.0.ckpt ]; then wget https://huggingface.co/Linaqruf/anything-v3.0/resolve/main/Anything-V3.0-pruned-fp32.ckpt -O /content/stable-diffusion-webui/models/Stable-diffusion/Anything-V3.0.ckpt; fi\n",
        "!if ! [ -f Anything-V3.0.vae.pt ]; then wget https://huggingface.co/Linaqruf/anything-v3.0/resolve/main/Anything-V3.0.vae.pt -O /content/stable-diffusion-webui/models/Stable-diffusion/Anything-V3.0.vae.pt; fi\n",
        "\n",
        "#webui setup for nai\n",
        "%cd /content/stable-diffusion-webui\n",
        "!if [ -f configinstan ]; then rm configinstan; fi\n",
        "!if ! [ -f configinstanlite ]; then wget https://pastebin.com/raw/5E29UP4a -O /content/stable-diffusion-webui/ui-config.json && wget https://pastebin.com/raw/k3syaBaG -O /content/stable-diffusion-webui/config.json; fi\n",
        "!touch configinstanlite\n",
        "\n",
        "#extensions\n",
        "%cd /content/stable-diffusion-webui/extensions\n",
        "!bash -c 'for repo in yfszzx/stable-diffusion-webui-images-browser Extraltodeus/depthmap2mask Klokinator/UnivAICharGen DominikDoom/a1111-sd-webui-tagcomplete; do if [ ! -d \"$repo\" ]; then git clone \"https://github.com/$repo\" && true; fi; done'\n",
        "\n",
        "#badprompt & badartist\n",
        "%cd /content/stable-diffusion-webui/embeddings/\n",
        "!if ! [ -f bad_prompt.pt ]; then wget https://huggingface.co/datasets/Nerfgun3/bad_prompt/resolve/main/bad_prompt_version2.pt -O /content/stable-diffusion-webui/embeddings/bad_prompt.pt; fi\n",
        "!if ! [ -f bad_artist.pt ]; then wget https://huggingface.co/NiXXerHATTER59/bad-artist/resolve/main/bad-artist.pt -O /content/stable-diffusion-webui/embeddings/bad_artist.pt; fi\n",
        "\n",
        "print(\"-----Download success! Now launching the webui------\")\n",
        "%cd /content/stable-diffusion-webui\n",
        "!python launch.py --share --xformers"
      ],
      "metadata": {
        "cellView": "form",
        "id": "xixuzVU4s37T"
      },
      "execution_count": null,
      "outputs": []
    },
    {
      "cell_type": "code",
      "source": [
        "#@title - Instan (Advanced)\n",
        "from subprocess import getoutput\n",
        "cek = getoutput('nvidia-smi')\n",
        "if not 'T4' in cek:\n",
        "  print(\"-----Your colab session is over. Use other google account or wait 12-24 hours-----\")\n",
        "  print(\"-----Sesi colab elu udah habis bro. Saran gw tunggu 12-24 jam atau bikin/pake akun google lain-----\")\n",
        "  exit()\n",
        "\n",
        "#thanks to https://github.com/camenduru for the fork\n",
        "!if ! pip freeze | grep \"xformers==0.0.15\"; then pip install -q https://github.com/camenduru/stable-diffusion-webui-colab/releases/download/0.0.15/xformers-0.0.15.dev0+189828c.d20221207-cp38-cp38-linux_x86_64.whl; fi\n",
        "%cd /content\n",
        "!if ! [ -d stable-diffusion-webui ]; then git clone https://github.com/camenduru/stable-diffusion-webui; fi\n",
        "%cd stable-diffusion-webui\n",
        "\n",
        "#AnythingV3 Model & Vae\n",
        "%cd /content/stable-diffusion-webui/models/Stable-diffusion/\n",
        "!if ! [ -f Anything-V3.0.ckpt ]; then wget https://huggingface.co/Linaqruf/anything-v3.0/resolve/main/Anything-V3.0-pruned-fp32.ckpt -O /content/stable-diffusion-webui/models/Stable-diffusion/Anything-V3.0.ckpt; fi\n",
        "!if ! [ -f Anything-V3.0.vae.pt ]; then wget https://huggingface.co/Linaqruf/anything-v3.0/resolve/main/Anything-V3.0.vae.pt -O /content/stable-diffusion-webui/models/Stable-diffusion/Anything-V3.0.vae.pt; fi\n",
        "\n",
        "#webui setup for nai\n",
        "%cd /content/stable-diffusion-webui\n",
        "!if [ -f configinstanlite ]; then rm configinstanlite; fi\n",
        "!if ! [ -f configinstan ]; then wget https://pastebin.com/raw/E4xqLW8f -O /content/stable-diffusion-webui/ui-config.json && wget https://pastebin.com/raw/DMZi7pUU -O /content/stable-diffusion-webui/config.json; fi\n",
        "!touch configinstan\n",
        "\n",
        "#extensions\n",
        "%cd /content/stable-diffusion-webui/extensions\n",
        "!bash -c 'for repo in yfszzx/stable-diffusion-webui-images-browser Extraltodeus/depthmap2mask Klokinator/UnivAICharGen DominikDoom/a1111-sd-webui-tagcomplete; do if [ ! -d \"$repo\" ]; then git clone \"https://github.com/$repo\" && true; fi; done'\n",
        "\n",
        "#badprompt & badartist\n",
        "%cd /content/stable-diffusion-webui/embeddings/\n",
        "!if ! [ -f bad_prompt.pt ]; then wget https://huggingface.co/datasets/Nerfgun3/bad_prompt/resolve/main/bad_prompt_version2.pt -O /content/stable-diffusion-webui/embeddings/bad_prompt.pt; fi\n",
        "!if ! [ -f bad_artist.pt ]; then wget https://huggingface.co/NiXXerHATTER59/bad-artist/resolve/main/bad-artist.pt -O /content/stable-diffusion-webui/embeddings/bad_artist.pt; fi\n",
        "\n",
        "print(\"-----Download success! Now launching the webui------\")\n",
        "%cd /content/stable-diffusion-webui\n",
        "!python launch.py --share --xformers"
      ],
      "metadata": {
        "id": "SaAJk33ppFw1",
        "cellView": "form"
      },
      "execution_count": null,
      "outputs": []
    },
    {
      "cell_type": "markdown",
      "source": [
        "## ![](https://raw.githubusercontent.com/etherealxx/etherportal-webui-colab/master/images/launchwebui.jpg)"
      ],
      "metadata": {
        "id": "yNZgsRe7jYIe"
      }
    },
    {
      "cell_type": "markdown",
      "source": [
        "## - Manual 👇"
      ],
      "metadata": {
        "id": "WWkQNOGnY4rz"
      }
    },
    {
      "cell_type": "code",
      "source": [
        "#@title 1. Installation\n",
        "from subprocess import getoutput\n",
        "cek = getoutput('nvidia-smi')\n",
        "if not 'T4' in cek:\n",
        "  print(\"-----Your colab session is over. Use other google account or wait 12-24 hours-----\")\n",
        "  print(\"-----Sesi colab elu udah habis bro. Saran gw tunggu 12-24 jam atau bikin/pake akun google lain-----\")\n",
        "  exit()\n",
        "\n",
        "#thanks to https://github.com/camenduru for the fork\n",
        "!if ! pip freeze | grep \"xformers==0.0.15\"; then pip install -q https://github.com/camenduru/stable-diffusion-webui-colab/releases/download/0.0.15/xformers-0.0.15.dev0+189828c.d20221207-cp38-cp38-linux_x86_64.whl; fi\n",
        "%cd /content\n",
        "!if ! [ -d stable-diffusion-webui ]; then git clone https://github.com/camenduru/stable-diffusion-webui; fi\n",
        "%cd stable-diffusion-webui\n",
        "\n",
        "#webui setup for nai\n",
        "%cd /content/stable-diffusion-webui\n",
        "!if [ -f configinstanlite ]; then rm configinstanlite; fi\n",
        "!if ! [ -f configinstan ]; then wget https://pastebin.com/raw/E4xqLW8f -O /content/stable-diffusion-webui/ui-config.json && wget https://pastebin.com/raw/DMZi7pUU -O /content/stable-diffusion-webui/config.json; fi\n",
        "!touch configinstan\n",
        "\n",
        "#extensions\n",
        "%cd /content/stable-diffusion-webui/extensions\n",
        "!bash -c 'for repo in yfszzx/stable-diffusion-webui-images-browser Extraltodeus/depthmap2mask Klokinator/UnivAICharGen DominikDoom/a1111-sd-webui-tagcomplete; do if [ ! -d \"$repo\" ]; then git clone \"https://github.com/$repo\" && true; fi; done'\n",
        "\n",
        "#badprompt & badartist\n",
        "%cd /content/stable-diffusion-webui/embeddings/\n",
        "!if ! [ -f bad_prompt.pt ]; then wget https://huggingface.co/datasets/Nerfgun3/bad_prompt/resolve/main/bad_prompt_version2.pt -O /content/stable-diffusion-webui/embeddings/bad_prompt.pt; fi\n",
        "!if ! [ -f bad_artist.pt ]; then wget https://huggingface.co/NiXXerHATTER59/bad-artist/resolve/main/bad-artist.pt -O /content/stable-diffusion-webui/embeddings/bad_artist.pt; fi"
      ],
      "metadata": {
        "cellView": "form",
        "id": "LzCWB7CkZP1j"
      },
      "execution_count": null,
      "outputs": []
    },
    {
      "cell_type": "code",
      "source": [
        "#@title 2. Download Model\n",
        "Model_to_download=\"Anythingv3\" #@param [ \"Anythingv3\", \"Eimis\", \"EvtV3\", \"ACertain\", \"Berrymix\", \"ElysiumV3\", \"Wlop-any\", \"Systemy-CSR\", \"ElyOrangemix\", \"WaifuDiffusion-Vae\"]\n",
        "import os\n",
        "from IPython.utils import capture\n",
        "\n",
        "def download_model(filename, link):\n",
        "  print(f'\\033[1;32mDownloading {Model_to_download} Model...\\033[0m')\n",
        "  !gdown {link} -O /content/stable-diffusion-webui/models/Stable-diffusion/{filename}\n",
        "  if filename=='Anything-V3.0.ckpt':\n",
        "    !gdown https://huggingface.co/Linaqruf/anything-v3.0/resolve/main/Anything-V3.0.vae.pt -O /content/stable-diffusion-webui/models/Stable-diffusion/Anything-V3.0.vae.pt\n",
        "  print(f'\\033[1;32mModel Downloaded.\\033[0m')\n",
        "  %cd /content/stable-diffusion-webui/models/\n",
        "  !touch {Model_to_download}.checker\n",
        "\n",
        "print('\u001b[1;32mInstalling webui...')\n",
        "with capture.capture_output() as cap:\n",
        "  %cd /content\n",
        "  !if ! [ -d stable-diffusion-webui ]; then git clone https://github.com/camenduru/stable-diffusion-webui; fi\n",
        "print('\u001b[0m')\n",
        "!if [ -f '/content/stable-diffusion-webui/models/Stable-diffusion/Put Stable Diffusion checkpoints here.txt' ]; then rm '/content/stable-diffusion-webui/models/Stable-diffusion/Put Stable Diffusion checkpoints here.txt'; fi\n",
        "\n",
        "%cd /content/stable-diffusion-webui/models/Stable-diffusion/\n",
        "if not os.path.exists(f'/content/stable-diffusion-webui/models/{Model_to_download}.checker'):\n",
        "\n",
        "  if Model_to_download=='Anythingv3':\n",
        "    download_model('Anything-V3.0.ckpt', 'https://huggingface.co/Linaqruf/anything-v3.0/resolve/main/Anything-V3.0-pruned-fp32.ckpt')\n",
        "  if Model_to_download=='WaifuDiffusion-Vae':\n",
        "    download_model('WD-vae.vae.pt', 'https://huggingface.co/hakurei/waifu-diffusion-v1-4/resolve/main/vae/kl-f8-anime2.ckpt')\n",
        "  if Model_to_download=='Eimis':\n",
        "    download_model('EimisAnimeDiffusion.ckpt', 'https://huggingface.co/eimiss/EimisAnimeDiffusion_1.0v/resolve/main/EimisAnimeDiffusion_1-0v.ckpt')\n",
        "  if Model_to_download=='EvtV3':\n",
        "    download_model('Evt_V3.ckpt', 'https://huggingface.co/haor/Evt_V3/resolve/main/Evt_V3_ema.ckpt')\n",
        "  if Model_to_download=='ACertain':\n",
        "    download_model('ACertainModel.ckpt', 'https://huggingface.co/JosephusCheung/ACertainModel/resolve/main/ACertainModel.ckpt')\n",
        "  if Model_to_download=='Berrymix':\n",
        "    download_model('berry_mix.ckpt', 'https://huggingface.co/misobarisic/berry-mix/resolve/main/berry_mix.ckpt')\n",
        "  if Model_to_download=='ElysiumV3':\n",
        "    download_model('Elysium_Anime_V3.safetensors', 'https://huggingface.co/hesw23168/SD-Elysium-Model/resolve/main/Elysium_Anime_V3.safetensors')\n",
        "  if Model_to_download=='Wlop-any':\n",
        "    download_model('wlop-any.ckpt', 'https://huggingface.co/SirVeggie/wlop/resolve/main/wlop-any.ckpt')\n",
        "  if Model_to_download=='Systemy-CSR':\n",
        "    download_model('CSRmodel.ckpt', 'https://huggingface.co/etherealxx/systemy-csrmodel-cutesexyrobutts/resolve/main/CSRmodel_1-CSRmodel_0-Weighted_sum-merged.ckpt')\n",
        "  if Model_to_download=='ElyOrangemix':\n",
        "    download_model('ElyOrangeMix.ckpt', 'https://huggingface.co/WarriorMama777/OrangeMixs/resolve/main/ElyOrangeMix.ckpt')\n",
        "\n",
        "else:\n",
        "  print(f'\u001b[1;32mThat model is already downloaded.')\n",
        "  print('\u001b[0m')\n",
        "\n",
        "print('\u001b[1;32mList of installed models:')\n",
        "print('\u001b[0m')\n",
        "!ls /content/stable-diffusion-webui/models/Stable-diffusion/"
      ],
      "metadata": {
        "cellView": "form",
        "id": "8KpYynqhbu4v"
      },
      "execution_count": null,
      "outputs": []
    },
    {
      "cell_type": "markdown",
      "source": [
        "###3. Run (Choose one👇)"
      ],
      "metadata": {
        "id": "bipvd2hgXrgW"
      }
    },
    {
      "cell_type": "markdown",
      "source": [
        "\n",
        "\n",
        "---\n",
        "\n"
      ],
      "metadata": {
        "id": "kkfl_kWo-Vc9"
      }
    },
    {
      "cell_type": "code",
      "source": [
        "#@title Run with Gradio\n",
        "#@markdown ![](https://raw.githubusercontent.com/etherealxx/etherportal-webui-colab/master/images/launchwebui2.jpg)\n",
        "\n",
        "from subprocess import getoutput\n",
        "cek = getoutput('nvidia-smi')\n",
        "if not 'T4' in cek:\n",
        "  print(\"Your colab session is over. Use other google account or wait 12-24 hours\")\n",
        "  print(\"Sesi colab elu udah habis bro. Saran gw tunggu 12-24 jam atau bikin/pake akun google lain\")\n",
        "  exit()\n",
        "\n",
        "%cd /content/stable-diffusion-webui/\n",
        "!python --share --xformers --disable-safe-unpickle --hide-ui-dir-config --gradio-debug"
      ],
      "metadata": {
        "id": "LhQlDtJhaS3J",
        "cellView": "form"
      },
      "execution_count": null,
      "outputs": []
    },
    {
      "cell_type": "code",
      "source": [
        "#@title Run with Localtunnel\n",
        "from subprocess import getoutput\n",
        "import time\n",
        "!npm install -g localtunnel\n",
        "\n",
        "cek = getoutput('nvidia-smi')\n",
        "if not 'T4' in cek:\n",
        "  print(\"Your colab session is over. Use other google account or wait 12-24 hours\")\n",
        "  print(\"Sesi colab elu udah habis bro. Saran gw tunggu 12-24 jam atau bikin/pake akun google lain\")\n",
        "  exit()\n",
        "\n",
        "%cd /content/stable-diffusion-webui/\n",
        "!nohup lt -p 7860 > lt.log 2>&1 &  \n",
        "time.sleep(2)\n",
        "with open('/content/stable-diffusion-webui/lt.log', 'r') as testwritefile:\n",
        "  print(\"\\033[92m\" + \"Wait for the model to load and follow this link\")\n",
        "  print(testwritefile.read())\n",
        "  print(\"\\033[95m\")\n",
        "!python launch.py --xformers --disable-safe-unpickle --lowram --medvram"
      ],
      "metadata": {
        "id": "Ct5OJZ7Tajh7",
        "cellView": "form"
      },
      "execution_count": null,
      "outputs": []
    }
  ]
}