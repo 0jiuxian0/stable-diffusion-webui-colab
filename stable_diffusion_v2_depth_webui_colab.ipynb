{
  "cells": [
    {
      "cell_type": "markdown",
      "metadata": {
        "id": "view-in-github"
      },
      "source": [
        "[![Open In Colab](https://colab.research.google.com/assets/colab-badge.svg)](https://colab.research.google.com/github/camenduru/stable-diffusion-webui-colab/blob/main/stable_diffusion_v2_depth_webui_colab.ipynb)"
      ]
    },
    {
      "cell_type": "code",
      "execution_count": null,
      "metadata": {
        "id": "SaAJk33ppFw1"
      },
      "outputs": [],
      "source": [
        "!pip install -q https://github.com/camenduru/stable-diffusion-webui-colab/releases/download/0.0.15/xformers-0.0.15.dev0+189828c.d20221207-cp38-cp38-linux_x86_64.whl\n",
        "\n",
        "!git clone https://github.com/camenduru/stable-diffusion-webui\n",
        "!git clone https://github.com/deforum-art/deforum-for-automatic1111-webui /content/stable-diffusion-webui/extensions/deforum-for-automatic1111-webui\n",
        "!git clone https://github.com/yfszzx/stable-diffusion-webui-images-browser /content/stable-diffusion-webui/extensions/stable-diffusion-webui-images-browser\n",
        "!git clone https://github.com/camenduru/stable-diffusion-webui-huggingface /content/stable-diffusion-webui/extensions/stable-diffusion-webui-huggingface\n",
        "%cd /content/stable-diffusion-webui\n",
        "\n",
        "!wget https://huggingface.co/stabilityai/stable-diffusion-2-depth/resolve/main/512-depth-ema.ckpt -O /content/stable-diffusion-webui/models/Stable-diffusion/512-depth-ema.ckpt\n",
        "!wget https://raw.githubusercontent.com/Stability-AI/stablediffusion/main/configs/stable-diffusion/v2-midas-inference.yaml -O /content/stable-diffusion-webui/models/Stable-diffusion/512-depth-ema.yaml\n",
        "\n",
        "!sed -i -e '/emb = emb.unsqueeze(0)/a\\                name = list(data.keys())[0]' /content/stable-diffusion-webui/modules/textual_inversion/textual_inversion.py\n",
        "!wget https://huggingface.co/spaablauw/FloralMarble/resolve/main/FloralMarble-400.pt -O /content/stable-diffusion-webui/embeddings/FloralMarble-400.pt\n",
        "\n",
        "!wget https://gist.githubusercontent.com/camenduru/9ec5f8141db9902e375967e93250860f/raw/d0bcf01786f20107c329c03f8968584ee67be12a/run_n_times.py -O /content/stable-diffusion-webui/scripts/run_n_times.py\n",
        "\n",
        "!python launch.py --share --xformers"
      ]
    }
  ],
  "metadata": {
    "accelerator": "GPU",
    "colab": {
      "private_outputs": true,
      "provenance": []
    },
    "gpuClass": "standard",
    "kernelspec": {
      "display_name": "Python 3",
      "name": "python3"
    },
    "language_info": {
      "name": "python"
    }
  },
  "nbformat": 4,
  "nbformat_minor": 0
}
