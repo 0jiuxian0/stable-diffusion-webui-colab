{
  "cells": [
    {
      "cell_type": "markdown",
      "metadata": {
        "id": "view-in-github"
      },
      "source": [
        "[![Open In Colab](https://colab.research.google.com/assets/colab-badge.svg)](https://colab.research.google.com/github/camenduru/stable-diffusion-webui-colab/blob/training/dev_standalone.ipynb)"
      ]
    },
    {
      "cell_type": "code",
      "execution_count": null,
      "metadata": {
        "id": "SaAJk33ppFw1"
      },
      "outputs": [],
      "source": [
        "from google.colab import drive\n",
        "drive.mount('/content/drive')\n",
        "\n",
        "!git clone -b v0.4.4 https://github.com/camenduru/sd-scripts\n",
        "!sed -i -e 's/requests==2.28.2/# requests==2.28.2/' /content/sd-scripts/requirements.txt\n",
        "%cd /content/sd-scripts\n",
        "!pip install -r requirements.txt\n",
        "!pip install --pre xformers\n",
        "!pip install --pre triton\n",
        "!git clone https://huggingface.co/JosephusCheung/ACertainty /content/ACertainty\n",
        "\n",
        "!python -u finetune/tag_images_by_wd14_tagger.py /content/drive/MyDrive/AI/training/parkminyoung --repo_id SmilingWolf/wd-v1-4-convnext-tagger-v2 --model_dir wd14_tagger_model --thresh 0.35 --batch_size 1 --caption_extension .txt\n",
        "!python -u finetune/merge_dd_tags_to_metadata.py /content/drive/MyDrive/AI/training/parkminyoung /content/drive/MyDrive/AI/training/parkminyoung/parkminyoung.json --caption_extension .txt\n",
        "!python -u finetune/prepare_buckets_latents.py /content/drive/MyDrive/AI/training/parkminyoung /content/drive/MyDrive/AI/training/parkminyoung/parkminyoung.json /content/drive/MyDrive/AI/training/parkminyoung/parkminyoung-latents.json /content/ACertainty/ACertainty.ckpt --batch_size 1 --max_resolution 512,512 --min_bucket_reso 256 --max_bucket_reso 1024 --bucket_reso_steps 64 --mixed_precision no\n",
        "!python -u train_network.py --pretrained_model_name_or_path /content/ACertainty/ACertainty.ckpt --train_data_dir /content/drive/MyDrive/AI/training/parkminyoung --in_json /content/drive/MyDrive/AI/training/parkminyoung/parkminyoung-latents.json --output_dir /content/trained --xformers --max_train_steps 1600 --use_8bit_adam --network_module networks.lora"
      ]
    },
    {
      "cell_type": "code",
      "execution_count": null,
      "metadata": {},
      "outputs": [],
      "source": [
        "!git -C /content/sd-scripts pull\n",
        "\n",
        "!rm /content/drive/MyDrive/AI/training/parkminyoung/*.txt\n",
        "!rm /content/drive/MyDrive/AI/training/parkminyoung/*.npz\n",
        "!rm /content/drive/MyDrive/AI/training/parkminyoung/parkminyoung.json\n",
        "!rm /content/drive/MyDrive/AI/training/parkminyoung/parkminyoung-latents.json"
      ]
    }
  ],
  "metadata": {
    "accelerator": "GPU",
    "colab": {
      "private_outputs": true,
      "provenance": []
    },
    "gpuClass": "standard",
    "kernelspec": {
      "display_name": "Python 3",
      "name": "python3"
    },
    "language_info": {
      "name": "python"
    }
  },
  "nbformat": 4,
  "nbformat_minor": 0
}
