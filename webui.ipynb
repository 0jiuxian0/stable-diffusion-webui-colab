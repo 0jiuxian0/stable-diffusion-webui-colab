{
  "nbformat": 4,
  "nbformat_minor": 0,
  "metadata": {
    "colab": {
      "private_outputs": true,
      "provenance": []
    },
    "kernelspec": {
      "name": "python3",
      "display_name": "Python 3"
    },
    "language_info": {
      "name": "python"
    },
    "accelerator": "GPU",
    "gpuClass": "standard"
  },
  "cells": [
    {
      "cell_type": "markdown",
      "metadata": {
        "id": "view-in-github"
      },
      "source": [
        "[![Open In Colab](https://colab.research.google.com/assets/colab-badge.svg)](https://colab.research.google.com/github/camenduru/stable-diffusion-webui-colab/blob/main/stable_diffusion_webui_colab.ipynb)"
      ]
    },
    {
      "cell_type": "code",
      "source": [
        "!pip install -q https://github.com/camenduru/stable-diffusion-webui-colab/releases/download/0.0.14/xformers-0.0.14.dev0-cp37-cp37m-linux_x86_64.whl\n",
        "\n",
        "!git clone https://github.com/camenduru/stable-diffusion-webui\n",
        "%cd stable-diffusion-webui\n",
        "\n",
        "!sed -i -e 's/numpy==1.23.3/numpy==1.21.6/g' requirements_versions.txt\n",
        "!sed -i -e 's/fairscale==0.4.9/fairscale==0.4.6/g' requirements_versions.txt\n",
        "\n",
        "model = \"stable-diffusion-v1-5\" #@param [\"arcane-diffusion\", \"cyberpunk-anime-diffusion\", \"midjourney-v4-diffusion\", \"mo-di-diffusion\", \"paper-cut-diffusion\", \"stable-diffusion-v1-5\", \"stable-diffusion-v1-5-inpainting\", \"stable-diffusion-v1-4\", \"waifu-diffusion-v1-3\"]\n",
        "\n",
        "if model == \"arcane-diffusion\":\n",
        "  !wget https://huggingface.co/nitrosocke/Arcane-Diffusion/resolve/main/arcane-diffusion-v3.ckpt -O /content/stable-diffusion-webui/models/Stable-diffusion/arcane-diffusion-v3.ckpt\n",
        "elif model == \"cyberpunk-anime-diffusion\":\n",
        "  !wget https://huggingface.co/DGSpitzer/Cyberpunk-Anime-Diffusion/resolve/main/Cyberpunk-Anime-Diffusion.ckpt -O /content/stable-diffusion-webui/models/Stable-diffusion/Cyberpunk-Anime-Diffusion.ckpt\n",
        "elif model == \"midjourney-v4-diffusion\":\n",
        "  !wget https://huggingface.co/prompthero/midjourney-v4-diffusion/resolve/main/mdjrny-v4.ckpt -O /content/stable-diffusion-webui/models/Stable-diffusion/mdjrny-v4.ckpt\n",
        "elif model == \"mo-di-diffusion\":\n",
        "  !wget https://huggingface.co/nitrosocke/mo-di-diffusion/resolve/main/moDi-v1-pruned.ckpt -O /content/stable-diffusion-webui/models/Stable-diffusion/moDi-v1-pruned.ckpt\n",
        "elif model == \"paper-cut-diffusion\":\n",
        "  !wget https://huggingface.co/Fictiverse/Stable_Diffusion_PaperCut_Model/resolve/main/PaperCut_v1.ckpt -O /content/stable-diffusion-webui/models/Stable-diffusion/PaperCut_v1.ckpt\n",
        "elif model == \"stable-diffusion-v1-5\":\n",
        "  !wget https://huggingface.co/camenduru/sd15/resolve/main/v1-5-pruned-emaonly.ckpt -O /content/stable-diffusion-webui/models/Stable-diffusion/v1-5-pruned-emaonly.ckpt\n",
        "elif model == \"stable-diffusion-v1-5-inpainting\":\n",
        "  !wget https://huggingface.co/camenduru/i15/resolve/main/sd-v1-5-inpainting.ckpt -O /content/stable-diffusion-webui/models/Stable-diffusion/sd-v1-5-inpainting.ckpt\n",
        "elif model == \"stable-diffusion-v1-4\":\n",
        "  !wget https://huggingface.co/camenduru/sd14/resolve/main/sd-v1-4.ckpt -O /content/stable-diffusion-webui/models/Stable-diffusion/sd-v1-4.ckpt\n",
        "elif model == \"waifu-diffusion-v1-3\":\n",
        "  !wget https://huggingface.co/hakurei/waifu-diffusion-v1-3/resolve/main/wd-v1-3-float32.ckpt -O /content/stable-diffusion-webui/models/Stable-diffusion/wd-v1-3-float32.ckpt\n",
        "\n",
        "!python launch.py --share --force-enable-xformers"
      ],
      "metadata": {
        "id": "SaAJk33ppFw1",
        "cellView": "form"
      },
      "execution_count": null,
      "outputs": []
    }
  ]
}
