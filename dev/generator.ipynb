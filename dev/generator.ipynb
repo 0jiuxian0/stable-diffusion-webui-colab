{
 "cells": [
  {
   "cell_type": "code",
   "execution_count": 9,
   "metadata": {},
   "outputs": [],
   "source": [
    "import re, os\n",
    "\n",
    "colabname = r\"{{colabname}}\"\n",
    "modelurl = r\"{{modelurl}}\"\n",
    "modelname = r\"{{modelname}}\"\n",
    "\n",
    "new_colabname = \"model_name_v1_webui_colab\"\n",
    "new_modelurl = \"https://huggingface.co/ckpt/model_name/resolve/main/model_name.safetensors\"\n",
    "new_modelname = \"model_name.safetensors\"\n",
    "\n",
    "output_file_lite = os.path.join(os.path.dirname(os.getcwd()), \"lite\", f\"{new_colabname}.ipynb\")\n",
    "file_lite = \"lite.ipynb\"\n",
    "with open(file_lite, 'r') as f:\n",
    "    input_text_lite = f.read()\n",
    "output_text1_lite = re.sub(colabname, new_colabname, input_text_lite)\n",
    "output_text2_lite = re.sub(modelurl, new_modelurl, output_text1_lite)\n",
    "output_text3_lite = re.sub(modelname, new_modelname, output_text2_lite)\n",
    "\n",
    "with open(output_file_lite, 'w') as f:\n",
    "    f.write(output_text3_lite)\n",
    "\n",
    "output_file_stable = os.path.join(os.path.dirname(os.getcwd()), \"stable\", f\"{new_colabname}.ipynb\")\n",
    "file_stable = \"stable.ipynb\"\n",
    "with open(file_stable, 'r') as f:\n",
    "    input_text_stable = f.read()\n",
    "output_text1_stable = re.sub(colabname, new_colabname, input_text_stable)\n",
    "output_text2_stable = re.sub(modelurl, new_modelurl, output_text1_stable)\n",
    "output_text3_stable = re.sub(modelname, new_modelname, output_text2_stable)\n",
    "\n",
    "with open(output_file_stable, 'w') as f:\n",
    "    f.write(output_text3_stable)\n",
    "\n",
    "output_file_nightly = os.path.join(os.path.dirname(os.getcwd()), \"nightly\", f\"{new_colabname}.ipynb\")\n",
    "file_nightly = \"nightly.ipynb\"\n",
    "with open(file_nightly, 'r') as f:\n",
    "    input_text_nightly = f.read()\n",
    "output_text1_nightly = re.sub(colabname, new_colabname, input_text_nightly)\n",
    "output_text2_nightly = re.sub(modelurl, new_modelurl, output_text1_nightly)\n",
    "output_text3_nightly = re.sub(modelname, new_modelname, output_text2_nightly)\n",
    "\n",
    "with open(output_file_nightly, 'w') as f:\n",
    "    f.write(output_text3_nightly)"
   ]
  }
 ],
 "metadata": {
  "kernelspec": {
   "display_name": "Python 3",
   "language": "python",
   "name": "python3"
  },
  "language_info": {
   "codemirror_mode": {
    "name": "ipython",
    "version": 3
   },
   "file_extension": ".py",
   "mimetype": "text/x-python",
   "name": "python",
   "nbconvert_exporter": "python",
   "pygments_lexer": "ipython3",
   "version": "3.10.8"
  },
  "orig_nbformat": 4
 },
 "nbformat": 4,
 "nbformat_minor": 2
}
